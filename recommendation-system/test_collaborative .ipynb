{
 "cells": [
  {
   "cell_type": "markdown",
   "metadata": {},
   "source": [
    "## Import các thư viện"
   ]
  },
  {
   "cell_type": "code",
   "execution_count": 1,
   "metadata": {},
   "outputs": [],
   "source": [
    "import pandas as pd\n",
    "from sklearn.metrics.pairwise import cosine_similarity"
   ]
  },
  {
   "cell_type": "markdown",
   "metadata": {},
   "source": [
    "## Tạo dữ liệu mẫu"
   ]
  },
  {
   "cell_type": "code",
   "execution_count": 2,
   "metadata": {},
   "outputs": [],
   "source": [
    "data = {\n",
    "    'customer': ['Nguyen Van A', 'Nguyen Van A', 'Le Thi B', 'Le Thi B', 'Tran Van C', 'Tran Van C', 'Nguyen Van D', 'Nguyen Van D'],\n",
    "    'product': ['Cà phê sữa', 'Đen Đá', 'Trà sữa', 'Cà phê sữa', 'Đen Đá', 'Trà sữa', 'Cà phê sữa', 'Trà sữa'],\n",
    "    'amount': [1, 3, 2, 1, 2, 1, 1, 2],\n",
    "    'date': ['2024-09-16', '2024-09-16', '2024-09-15', '2024-09-15', '2024-09-14', '2024-09-14', '2024-09-13', '2024-09-13']\n",
    "}"
   ]
  },
  {
   "cell_type": "code",
   "execution_count": 3,
   "metadata": {},
   "outputs": [],
   "source": [
    "df = pd.DataFrame(data)"
   ]
  },
  {
   "cell_type": "code",
   "execution_count": 4,
   "metadata": {},
   "outputs": [
    {
     "data": {
      "text/html": [
       "<div>\n",
       "<style scoped>\n",
       "    .dataframe tbody tr th:only-of-type {\n",
       "        vertical-align: middle;\n",
       "    }\n",
       "\n",
       "    .dataframe tbody tr th {\n",
       "        vertical-align: top;\n",
       "    }\n",
       "\n",
       "    .dataframe thead th {\n",
       "        text-align: right;\n",
       "    }\n",
       "</style>\n",
       "<table border=\"1\" class=\"dataframe\">\n",
       "  <thead>\n",
       "    <tr style=\"text-align: right;\">\n",
       "      <th></th>\n",
       "      <th>customer</th>\n",
       "      <th>product</th>\n",
       "      <th>amount</th>\n",
       "      <th>date</th>\n",
       "    </tr>\n",
       "  </thead>\n",
       "  <tbody>\n",
       "    <tr>\n",
       "      <th>0</th>\n",
       "      <td>Nguyen Van A</td>\n",
       "      <td>Cà phê sữa</td>\n",
       "      <td>1</td>\n",
       "      <td>2024-09-16</td>\n",
       "    </tr>\n",
       "    <tr>\n",
       "      <th>1</th>\n",
       "      <td>Nguyen Van A</td>\n",
       "      <td>Đen Đá</td>\n",
       "      <td>3</td>\n",
       "      <td>2024-09-16</td>\n",
       "    </tr>\n",
       "    <tr>\n",
       "      <th>2</th>\n",
       "      <td>Le Thi B</td>\n",
       "      <td>Trà sữa</td>\n",
       "      <td>2</td>\n",
       "      <td>2024-09-15</td>\n",
       "    </tr>\n",
       "    <tr>\n",
       "      <th>3</th>\n",
       "      <td>Le Thi B</td>\n",
       "      <td>Cà phê sữa</td>\n",
       "      <td>1</td>\n",
       "      <td>2024-09-15</td>\n",
       "    </tr>\n",
       "    <tr>\n",
       "      <th>4</th>\n",
       "      <td>Tran Van C</td>\n",
       "      <td>Đen Đá</td>\n",
       "      <td>2</td>\n",
       "      <td>2024-09-14</td>\n",
       "    </tr>\n",
       "  </tbody>\n",
       "</table>\n",
       "</div>"
      ],
      "text/plain": [
       "       customer     product  amount        date\n",
       "0  Nguyen Van A  Cà phê sữa       1  2024-09-16\n",
       "1  Nguyen Van A      Đen Đá       3  2024-09-16\n",
       "2      Le Thi B     Trà sữa       2  2024-09-15\n",
       "3      Le Thi B  Cà phê sữa       1  2024-09-15\n",
       "4    Tran Van C      Đen Đá       2  2024-09-14"
      ]
     },
     "execution_count": 4,
     "metadata": {},
     "output_type": "execute_result"
    }
   ],
   "source": [
    "df.head()"
   ]
  },
  {
   "cell_type": "markdown",
   "metadata": {},
   "source": [
    "## Tạo ma trận khách hàng - sản phẩm"
   ]
  },
  {
   "cell_type": "code",
   "execution_count": 5,
   "metadata": {},
   "outputs": [],
   "source": [
    "customer_product_matrix = df.pivot_table(index='customer', columns='product', values='amount', fill_value=0)\n"
   ]
  },
  {
   "cell_type": "markdown",
   "metadata": {},
   "source": [
    "## Tính toán độ tương đồng giữa các khách hàng"
   ]
  },
  {
   "cell_type": "code",
   "execution_count": 6,
   "metadata": {},
   "outputs": [],
   "source": [
    "customer_similarity = cosine_similarity(customer_product_matrix)"
   ]
  },
  {
   "cell_type": "markdown",
   "metadata": {},
   "source": [
    "## Chuyển thành DataFrame để dễ quan sát"
   ]
  },
  {
   "cell_type": "code",
   "execution_count": 7,
   "metadata": {},
   "outputs": [],
   "source": [
    "customer_similarity_df = pd.DataFrame(customer_similarity, index=customer_product_matrix.index, columns=customer_product_matrix.index)\n"
   ]
  },
  {
   "cell_type": "code",
   "execution_count": 8,
   "metadata": {},
   "outputs": [
    {
     "data": {
      "text/html": [
       "<div>\n",
       "<style scoped>\n",
       "    .dataframe tbody tr th:only-of-type {\n",
       "        vertical-align: middle;\n",
       "    }\n",
       "\n",
       "    .dataframe tbody tr th {\n",
       "        vertical-align: top;\n",
       "    }\n",
       "\n",
       "    .dataframe thead th {\n",
       "        text-align: right;\n",
       "    }\n",
       "</style>\n",
       "<table border=\"1\" class=\"dataframe\">\n",
       "  <thead>\n",
       "    <tr style=\"text-align: right;\">\n",
       "      <th>customer</th>\n",
       "      <th>Le Thi B</th>\n",
       "      <th>Nguyen Van A</th>\n",
       "      <th>Nguyen Van D</th>\n",
       "      <th>Tran Van C</th>\n",
       "    </tr>\n",
       "    <tr>\n",
       "      <th>customer</th>\n",
       "      <th></th>\n",
       "      <th></th>\n",
       "      <th></th>\n",
       "      <th></th>\n",
       "    </tr>\n",
       "  </thead>\n",
       "  <tbody>\n",
       "    <tr>\n",
       "      <th>Le Thi B</th>\n",
       "      <td>1.000000</td>\n",
       "      <td>0.141421</td>\n",
       "      <td>1.000000</td>\n",
       "      <td>0.400000</td>\n",
       "    </tr>\n",
       "    <tr>\n",
       "      <th>Nguyen Van A</th>\n",
       "      <td>0.141421</td>\n",
       "      <td>1.000000</td>\n",
       "      <td>0.141421</td>\n",
       "      <td>0.848528</td>\n",
       "    </tr>\n",
       "    <tr>\n",
       "      <th>Nguyen Van D</th>\n",
       "      <td>1.000000</td>\n",
       "      <td>0.141421</td>\n",
       "      <td>1.000000</td>\n",
       "      <td>0.400000</td>\n",
       "    </tr>\n",
       "    <tr>\n",
       "      <th>Tran Van C</th>\n",
       "      <td>0.400000</td>\n",
       "      <td>0.848528</td>\n",
       "      <td>0.400000</td>\n",
       "      <td>1.000000</td>\n",
       "    </tr>\n",
       "  </tbody>\n",
       "</table>\n",
       "</div>"
      ],
      "text/plain": [
       "customer      Le Thi B  Nguyen Van A  Nguyen Van D  Tran Van C\n",
       "customer                                                      \n",
       "Le Thi B      1.000000      0.141421      1.000000    0.400000\n",
       "Nguyen Van A  0.141421      1.000000      0.141421    0.848528\n",
       "Nguyen Van D  1.000000      0.141421      1.000000    0.400000\n",
       "Tran Van C    0.400000      0.848528      0.400000    1.000000"
      ]
     },
     "execution_count": 8,
     "metadata": {},
     "output_type": "execute_result"
    }
   ],
   "source": [
    "customer_similarity_df.head()"
   ]
  },
  {
   "cell_type": "markdown",
   "metadata": {},
   "source": [
    "## Hàm gợi ý sản phẩm cho khách hàng dựa trên độ tương đồng"
   ]
  },
  {
   "cell_type": "code",
   "execution_count": 13,
   "metadata": {},
   "outputs": [],
   "source": [
    "def recommend_products(customer, customer_product_matrix, similarity_df, num_recommendations=2):\n",
    "    # Lấy thông tin sản phẩm mà khách hàng đã mua\n",
    "    customer_purchases = customer_product_matrix.loc[customer]\n",
    "    \n",
    "    # Tìm các khách hàng tương tự\n",
    "    similar_customers = similarity_df[customer].sort_values(ascending=False).index\n",
    "    \n",
    "    # Tập hợp các sản phẩm mà khách hàng tương tự đã mua nhưng khách hàng hiện tại chưa mua\n",
    "    recommended_products = set()\n",
    "    \n",
    "    for similar_customer in similar_customers:\n",
    "        if similar_customer != customer:\n",
    "            similar_customer_purchases = customer_product_matrix.loc[similar_customer]\n",
    "            # Sản phẩm mà khách hàng tương tự đã mua nhưng khách hàng hiện tại chưa mua\n",
    "            products_to_recommend = similar_customer_purchases[(similar_customer_purchases > 0) & (customer_purchases == 0)]\n",
    "            \n",
    "            recommended_products.update(products_to_recommend.index)\n",
    "    \n",
    "    # Chỉ trả về tên sản phẩm\n",
    "    return list(recommended_products)[:num_recommendations]"
   ]
  },
  {
   "cell_type": "markdown",
   "metadata": {},
   "source": [
    "## Gợi ý sản phẩm cho khách hàng"
   ]
  },
  {
   "cell_type": "code",
   "execution_count": 14,
   "metadata": {},
   "outputs": [
    {
     "name": "stdout",
     "output_type": "stream",
     "text": [
      "Gợi ý sản phẩm cho Nguyen Van A: ['Trà sữa']\n",
      "Gợi ý sản phẩm cho Le Thi B: ['Đen Đá']\n"
     ]
    }
   ],
   "source": [
    "# Gợi ý sản phẩm cho \"Nguyen Van A\"\n",
    "recommendations_for_nguyen_van_a = recommend_products(\"Nguyen Van A\", customer_product_matrix, customer_similarity_df)\n",
    "print(\"Gợi ý sản phẩm cho Nguyen Van A:\", recommendations_for_nguyen_van_a)\n",
    "\n",
    "# Gợi ý sản phẩm cho \"Le Thi B\"\n",
    "recommendations_for_le_thi_b = recommend_products(\"Le Thi B\", customer_product_matrix, customer_similarity_df)\n",
    "print(\"Gợi ý sản phẩm cho Le Thi B:\", recommendations_for_le_thi_b)"
   ]
  },
  {
   "cell_type": "code",
   "execution_count": null,
   "metadata": {},
   "outputs": [],
   "source": []
  }
 ],
 "metadata": {
  "kernelspec": {
   "display_name": "Python 3",
   "language": "python",
   "name": "python3"
  },
  "language_info": {
   "codemirror_mode": {
    "name": "ipython",
    "version": 3
   },
   "file_extension": ".py",
   "mimetype": "text/x-python",
   "name": "python",
   "nbconvert_exporter": "python",
   "pygments_lexer": "ipython3",
   "version": "3.12.5"
  }
 },
 "nbformat": 4,
 "nbformat_minor": 2
}
