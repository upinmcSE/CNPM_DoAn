{
 "cells": [
  {
   "cell_type": "markdown",
   "metadata": {},
   "source": [
    "## Import các thư viện"
   ]
  },
  {
   "cell_type": "code",
   "execution_count": 12,
   "metadata": {},
   "outputs": [],
   "source": [
    "import pandas as pd\n",
    "import numpy as np\n",
    "from sklearn.metrics.pairwise import cosine_similarity\n",
    "from sklearn.feature_extraction.text import TfidfVectorizer\n",
    "import random"
   ]
  },
  {
   "cell_type": "markdown",
   "metadata": {},
   "source": [
    "## Tạo dữ liệu mẫu"
   ]
  },
  {
   "cell_type": "code",
   "execution_count": 2,
   "metadata": {},
   "outputs": [],
   "source": [
    "# Bước 1: Tạo dữ liệu giả\n",
    "random.seed(42)  # Để tạo dữ liệu có thể tái tạo\n",
    "customers = [f'{i:05d}' for i in range(1, 101)]  # 100 khách hàng\n",
    "products = [f'{i * 1000}' for i in range(1, 21)]  # 20 sản phẩm: 1000, 2000, ..., 20000\n"
   ]
  },
  {
   "cell_type": "code",
   "execution_count": 3,
   "metadata": {},
   "outputs": [],
   "source": [
    "data = {\n",
    "    'customers': [],\n",
    "    'products': [],\n",
    "    'amount': [],\n",
    "    'date': []\n",
    "}\n",
    "for _ in range(500):\n",
    "    customer_id = random.choice(customers)\n",
    "    product_id = random.choice(products)\n",
    "    amount = random.randint(1, 5)  # Số lượng ngẫu nhiên từ 1 đến 5\n",
    "    date = f\"2024-09-{random.randint(10, 30):02d}\"  # Ngày ngẫu nhiên trong tháng 09/2024\n",
    "    \n",
    "    data['customers'].append(customer_id)\n",
    "    data['products'].append(product_id)\n",
    "    data['amount'].append(amount)\n",
    "    data['date'].append(date)\n",
    "\n",
    "# Tạo DataFrame từ dữ liệu giả\n",
    "df = pd.DataFrame(data)"
   ]
  },
  {
   "cell_type": "code",
   "execution_count": 4,
   "metadata": {},
   "outputs": [
    {
     "data": {
      "text/html": [
       "<div>\n",
       "<style scoped>\n",
       "    .dataframe tbody tr th:only-of-type {\n",
       "        vertical-align: middle;\n",
       "    }\n",
       "\n",
       "    .dataframe tbody tr th {\n",
       "        vertical-align: top;\n",
       "    }\n",
       "\n",
       "    .dataframe thead th {\n",
       "        text-align: right;\n",
       "    }\n",
       "</style>\n",
       "<table border=\"1\" class=\"dataframe\">\n",
       "  <thead>\n",
       "    <tr style=\"text-align: right;\">\n",
       "      <th></th>\n",
       "      <th>customers</th>\n",
       "      <th>products</th>\n",
       "      <th>amount</th>\n",
       "      <th>date</th>\n",
       "    </tr>\n",
       "  </thead>\n",
       "  <tbody>\n",
       "    <tr>\n",
       "      <th>0</th>\n",
       "      <td>00082</td>\n",
       "      <td>4000</td>\n",
       "      <td>1</td>\n",
       "      <td>2024-09-18</td>\n",
       "    </tr>\n",
       "    <tr>\n",
       "      <th>1</th>\n",
       "      <td>00032</td>\n",
       "      <td>8000</td>\n",
       "      <td>2</td>\n",
       "      <td>2024-09-13</td>\n",
       "    </tr>\n",
       "    <tr>\n",
       "      <th>2</th>\n",
       "      <td>00087</td>\n",
       "      <td>18000</td>\n",
       "      <td>1</td>\n",
       "      <td>2024-09-28</td>\n",
       "    </tr>\n",
       "    <tr>\n",
       "      <th>3</th>\n",
       "      <td>00055</td>\n",
       "      <td>2000</td>\n",
       "      <td>1</td>\n",
       "      <td>2024-09-12</td>\n",
       "    </tr>\n",
       "    <tr>\n",
       "      <th>4</th>\n",
       "      <td>00028</td>\n",
       "      <td>8000</td>\n",
       "      <td>5</td>\n",
       "      <td>2024-09-29</td>\n",
       "    </tr>\n",
       "  </tbody>\n",
       "</table>\n",
       "</div>"
      ],
      "text/plain": [
       "  customers products  amount        date\n",
       "0     00082     4000       1  2024-09-18\n",
       "1     00032     8000       2  2024-09-13\n",
       "2     00087    18000       1  2024-09-28\n",
       "3     00055     2000       1  2024-09-12\n",
       "4     00028     8000       5  2024-09-29"
      ]
     },
     "execution_count": 4,
     "metadata": {},
     "output_type": "execute_result"
    }
   ],
   "source": [
    "df.head()"
   ]
  },
  {
   "cell_type": "code",
   "execution_count": 5,
   "metadata": {},
   "outputs": [],
   "source": [
    "# Bước 2: Tiền xử lý dữ liệu\n",
    "# Chuyển đổi ngày tháng thành kiểu dữ liệu ngày\n",
    "df['date'] = pd.to_datetime(df['date'])"
   ]
  },
  {
   "cell_type": "code",
   "execution_count": 6,
   "metadata": {},
   "outputs": [],
   "source": [
    "# Tạo một DataFrame để nhóm theo sản phẩm\n",
    "product_data = df.groupby('products').agg({\n",
    "    'amount': 'sum',\n",
    "    'date': 'max'  # Lấy ngày lớn nhất cho mỗi sản phẩm\n",
    "}).reset_index()"
   ]
  },
  {
   "cell_type": "markdown",
   "metadata": {},
   "source": [
    "Tính toán TF-IDF: Đầu tiên, các sản phẩm được chuyển đổi thành ma trận TF-IDF (Term Frequency-Inverse Document Frequency). TF-IDF là một phương pháp phổ biến để đại diện cho văn bản dưới dạng vector, giúp đánh giá tầm quan trọng của từ trong tài liệu so với toàn bộ tập tài liệu."
   ]
  },
  {
   "cell_type": "code",
   "execution_count": 7,
   "metadata": {},
   "outputs": [],
   "source": [
    "# Tính toán ma trận TF-IDF cho các sản phẩm\n",
    "tfidf = TfidfVectorizer()\n",
    "tfidf_matrix = tfidf.fit_transform(df['products'])"
   ]
  },
  {
   "cell_type": "markdown",
   "metadata": {},
   "source": [
    "Tính độ tương đồng Cosine: Sau đó, phương pháp tính độ tương đồng cosine được sử dụng để đo lường sự tương đồng giữa các vector sản phẩm. Độ tương đồng cosine cho biết góc giữa hai vector, với giá trị gần 1 cho thấy chúng rất tương đồng và giá trị gần 0 cho thấy chúng khác nhau."
   ]
  },
  {
   "cell_type": "code",
   "execution_count": 8,
   "metadata": {},
   "outputs": [],
   "source": [
    "# Tính toán độ tương đồng cosine\n",
    "cosine_sim = cosine_similarity(tfidf_matrix, tfidf_matrix)"
   ]
  },
  {
   "cell_type": "code",
   "execution_count": 9,
   "metadata": {},
   "outputs": [
    {
     "name": "stdout",
     "output_type": "stream",
     "text": [
      "Sản phẩm gợi ý cho khách hàng 00032: ['8000', '13000', '10000', '1000', '14000', '11000', '15000', '16000', '3000', '12000']\n"
     ]
    }
   ],
   "source": [
    "\n",
    "# Hàm gợi ý sản phẩm cho từng khách hàng\n",
    "def get_recommendations(customer_id, num_recommendations=9):\n",
    "    # Lấy danh sách sản phẩm đã mua của khách hàng\n",
    "    purchased_products = df[df['customers'] == customer_id]['products'].unique()\n",
    "    \n",
    "    recommendations = set()\n",
    "    \n",
    "    # Lấy gợi ý dựa trên các sản phẩm đã mua\n",
    "    for product_id in purchased_products:\n",
    "        # Kiểm tra xem sản phẩm có trong ma trận không\n",
    "        if product_id in tfidf.get_feature_names_out():  \n",
    "            idx = np.where(tfidf.get_feature_names_out() == product_id)[0][0]\n",
    "            \n",
    "            # Lấy độ tương đồng với các sản phẩm khác\n",
    "            sim_scores = list(enumerate(cosine_sim[idx]))\n",
    "            \n",
    "            # Sắp xếp sản phẩm theo độ tương đồng\n",
    "            sim_scores = sorted(sim_scores, key=lambda x: x[1], reverse=True)\n",
    "            \n",
    "            # Thêm sản phẩm gợi ý vào tập hợp, bỏ qua sản phẩm đã mua\n",
    "            for i in sim_scores[1:]:\n",
    "                if i[0] < len(tfidf.get_feature_names_out()):  # Kiểm tra chỉ số hợp lệ\n",
    "                    recommendations.add(tfidf.get_feature_names_out()[i[0]])\n",
    "                if len(recommendations) >= num_recommendations:\n",
    "                    break\n",
    "\n",
    "    return list(recommendations)\n",
    "\n",
    "# Kiểm tra gợi ý cho một khách hàng cụ thể\n",
    "customer_id = '00032'  # Thay đổi ID khách hàng nếu cần\n",
    "recommendations = get_recommendations(customer_id)\n",
    "print(f\"Sản phẩm gợi ý cho khách hàng {customer_id}: {recommendations}\")\n"
   ]
  },
  {
   "cell_type": "code",
   "execution_count": 10,
   "metadata": {},
   "outputs": [
    {
     "name": "stdout",
     "output_type": "stream",
     "text": [
      "Sản phẩm gợi ý cho khách hàng 00082: ['13000', '10000', '1000', '14000', '11000', '15000', '16000', '12000', '17000']\n"
     ]
    }
   ],
   "source": [
    "# Kiểm tra gợi ý cho một khách hàng cụ thể\n",
    "customer_id= '00082'  # Thay đổi ID khách hàng nếu cần\n",
    "recommendations = get_recommendations(customer_id)\n",
    "print(f\"Sản phẩm gợi ý cho khách hàng {customer_id}: {recommendations}\")"
   ]
  },
  {
   "cell_type": "code",
   "execution_count": null,
   "metadata": {},
   "outputs": [],
   "source": []
  }
 ],
 "metadata": {
  "kernelspec": {
   "display_name": ".venv",
   "language": "python",
   "name": "python3"
  },
  "language_info": {
   "codemirror_mode": {
    "name": "ipython",
    "version": 3
   },
   "file_extension": ".py",
   "mimetype": "text/x-python",
   "name": "python",
   "nbconvert_exporter": "python",
   "pygments_lexer": "ipython3",
   "version": "3.12.5"
  }
 },
 "nbformat": 4,
 "nbformat_minor": 2
}
